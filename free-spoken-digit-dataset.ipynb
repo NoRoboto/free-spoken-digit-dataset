{
 "cells": [
  {
   "cell_type": "code",
   "execution_count": 1,
   "metadata": {},
   "outputs": [
    {
     "name": "stdout",
     "output_type": "stream",
     "text": [
      "Automatically created module for IPython interactive environment\n"
     ]
    }
   ],
   "source": [
    "import logging\n",
    "import glob\n",
    "from pathlib import Path\n",
    "import scipy.io.wavfile as wav\n",
    "import numpy as np\n",
    "import matplotlib.pyplot as plt\n",
    "\n",
    "from scipy import signal\n",
    "from sklearn import preprocessing\n",
    "from sklearn.model_selection import train_test_split\n",
    "\n",
    "print(__doc__)\n",
    "\n",
    "# Display progress logs on stdout\n",
    "logging.basicConfig(level=logging.INFO, format='%(asctime)s %(message)s')"
   ]
  },
  {
   "cell_type": "code",
   "execution_count": 82,
   "metadata": {},
   "outputs": [],
   "source": [
    "def load_raw_data(audio_path):\n",
    "    samples_data = []\n",
    "    sample_data_rates = []\n",
    "    file_names = []\n",
    "    label_encoder = preprocessing.LabelEncoder()\n",
    "\n",
    "    for file in Path(audio_path).glob(\"**/*.wav\"):\n",
    "        if not file.is_file():  # Skip directories\n",
    "            continue\n",
    "\n",
    "        sample_rate, samples = wav.read(file)\n",
    "        samples_data.append(samples)\n",
    "        sample_data_rates.append(sample_rate)\n",
    "        \n",
    "        file_names.append(file.name)\n",
    "\n",
    "    return samples_data, sample_data_rates, file_names\n",
    "\n",
    "def get_wav_spectrogram(data, rate, file_name):\n",
    "    print('Processing file: %s' %file_name)\n",
    "    fig, ax = plt.subplots(1)\n",
    "    fig.subplots_adjust(left = 0, right = 1, bottom = 0, top = 1)\n",
    "    ax.axis('off')\n",
    "\n",
    "    pxx, freqs, bins, im = ax.specgram(x = data, Fs = rate, noverlap = 384, NFFT = 512)\n",
    "    ax.axis('off')\n",
    "\n",
    "    DPI = fig.get_dpi()\n",
    "    fig.set_size_inches(64.0/float(DPI), 64.0/float(DPI))\n",
    "    \n",
    "    fig.savefig(file_name, frameon = 'false')\n",
    "\n",
    "def save_wav_spectogram_to_image(samples, sample_rates, file_names):\n",
    "    img_dir = './images/'\n",
    "    for index, sample in enumerate(samples):\n",
    "        file_name = img_dir + (file_names[index].rsplit('.', 1)[0]) + '.png' # remove .wav\n",
    "        get_wav_spectrogram(sample, sample_rates[index], file_name)\n"
   ]
  },
  {
   "cell_type": "code",
   "execution_count": 84,
   "metadata": {},
   "outputs": [],
   "source": [
    "# Generate images.\n",
    "#wav_data, sample_rates, file_names = load_raw_data('./recordings')\n",
    "#spectogram_to_image(wav_data, sample_rates, file_names)"
   ]
  },
  {
   "cell_type": "code",
   "execution_count": 7,
   "metadata": {},
   "outputs": [
    {
     "data": {
      "text/plain": [
       "array([array([ -6, -16, -10, ...,  12,  14,  17], dtype=int16),\n",
       "       array([-7,  5,  1, ...,  5, -1, 16], dtype=int16),\n",
       "       array([ 0, -2,  1, ...,  1,  1,  3], dtype=int16), ...,\n",
       "       array([ 1,  8,  1, ..., -8,  1,  4], dtype=int16),\n",
       "       array([ 1, 11, -6, ..., 10,  2,  2], dtype=int16),\n",
       "       array([-374, -473, -560, ..., -302, -279, -329], dtype=int16)],\n",
       "      dtype=object)"
      ]
     },
     "execution_count": 7,
     "metadata": {},
     "output_type": "execute_result"
    }
   ],
   "source": [
    "def get_data_from_spectogram_images(images_path):\n",
    "    labels = []\n",
    "    for file in Path(images_path).glob(\"**/*.png\"):\n",
    "        label = file.name.split('_')[0]\n",
    "        labels.append(label)\n",
    "    "
   ]
  },
  {
   "cell_type": "code",
   "execution_count": null,
   "metadata": {},
   "outputs": [],
   "source": []
  }
 ],
 "metadata": {
  "kernelspec": {
   "display_name": "Python 3",
   "language": "python",
   "name": "python3"
  },
  "language_info": {
   "codemirror_mode": {
    "name": "ipython",
    "version": 3
   },
   "file_extension": ".py",
   "mimetype": "text/x-python",
   "name": "python",
   "nbconvert_exporter": "python",
   "pygments_lexer": "ipython3",
   "version": "3.7.3"
  }
 },
 "nbformat": 4,
 "nbformat_minor": 2
}
